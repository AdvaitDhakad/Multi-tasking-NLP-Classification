{
  "cells": [
    {
      "cell_type": "code",
      "execution_count": null,
      "metadata": {
        "id": "CxDOiqpLhDJ4"
      },
      "outputs": [],
      "source": [
        "# import torch\n",
        "# from transformers import AutoTokenizer, AutoModelForSequenceClassification\n",
        "# import pandas as pd\n",
        "\n",
        "# df = pd.read_csv(\"../input/twitter-data-fromapi/label1.csv\")\n",
        "# # Load RoBERTa tokenizer and model\n",
        "# tokenizer = AutoTokenizer.from_pretrained(\"cardiffnlp/twitter-roberta-base-emotion\")\n",
        "# model = AutoModelForSequenceClassification.from_pretrained(\"cardiffnlp/twitter-roberta-base-emotion\")\n",
        "\n",
        "# # Define mapping of emotion labels to their names\n",
        "# emotion_map = {\n",
        "# \t0: 'anger',\n",
        "# \t1: 'joy',\n",
        "# \t2: 'optimism',\n",
        "# \t3: 'sadness'\n",
        "# }\n",
        "\n",
        "\n",
        "# # # Define function to predict emotions for a list of tweets\n",
        "# # def predict_emotions(tweets):\n",
        "# # \t# Tokenize tweets\n",
        "# # \ttokenized_tweets = tokenizer.batch_encode_plus(tweets, padding=True, truncation=True, return_tensors='pt')\n",
        "\n",
        "# # \t# Pass tokenized tweets through RoBERTa model\n",
        "# # \tlogits = model(**tokenized_tweets)[0]\n",
        "\n",
        "# # \t# Convert logits to probabilities using softmax\n",
        "# # \tprobabilities = torch.softmax(logits, dim=1)\n",
        "\n",
        "# # \t# Get predicted emotion label for each tweet\n",
        "# # \tpredicted_labels = torch.argmax(probabilities, dim=1)\n",
        "\n",
        "# # \t# Map predicted label indices to their emotion names\n",
        "# # \tpredicted_emotions = [emotion_map[label.item()] for label in predicted_labels]\n",
        "\n",
        "# # \treturn predicted_emotions\n",
        "\n",
        "\n",
        "# # # Predict emotions for a list of tweets\n",
        "# # tweets = df[\"clean_tweets\"].tolist()\n",
        "# # predicted_emotions = predict_emotions(tweets)\n",
        "# # df[\"predicted_emotions\"] = predicted_emotions\n",
        "# # print(df[\"predicted_emotions\"].value_counts())\n",
        "# # df.to_csv(\"label3.csv\")"
      ]
    },
    {
      "cell_type": "code",
      "execution_count": null,
      "metadata": {
        "colab": {
          "base_uri": "https://localhost:8080/"
        },
        "id": "9kdn89Sv5ZVO",
        "outputId": "9d497dd9-605c-4a61-8248-2f2c8a6c850b"
      },
      "outputs": [
        {
          "output_type": "stream",
          "name": "stdout",
          "text": [
            "Mounted at /content/drive\n"
          ]
        }
      ],
      "source": [
        "from google.colab import drive\n",
        "drive.mount('/content/drive')"
      ]
    },
    {
      "cell_type": "code",
      "execution_count": null,
      "metadata": {
        "id": "SZNghHYYhDJ7"
      },
      "outputs": [],
      "source": [
        "# !pip install transformers -q"
      ]
    },
    {
      "cell_type": "code",
      "execution_count": null,
      "metadata": {
        "colab": {
          "base_uri": "https://localhost:8080/"
        },
        "id": "eh-50NIihDJ8",
        "outputId": "5055f03e-8472-4e3a-e87c-3547df107e17"
      },
      "outputs": [
        {
          "output_type": "execute_result",
          "data": {
            "text/plain": [
              "Index(['Url', 'Lang', 'tweet', 'MediaUrl', 'clean_tweets', 'polarity',\n",
              "       'emotion', 'hate_speech'],\n",
              "      dtype='object')"
            ]
          },
          "metadata": {},
          "execution_count": 4
        }
      ],
      "source": [
        "import os\n",
        "import numpy as np\n",
        "import math\n",
        "import time\n",
        "from sklearn import preprocessing\n",
        "import matplotlib.pyplot as plt\n",
        "\n",
        "import tensorflow as tf\n",
        "from tensorflow import keras\n",
        "from tensorflow.keras.layers.experimental.preprocessing import TextVectorization\n",
        "from tensorflow.keras import layers, regularizers\n",
        "from tensorflow.keras.utils import plot_model\n",
        "import pydot\n",
        "import graphviz\n",
        "import pandas as pd\n",
        "import os\n",
        "\n",
        "# df = pd.read_csv(\"../input/twitter-data-fromapi/label3.csv\", index_col=0)\n",
        "df = pd.read_csv(\"/content/drive/Othercomputers/Advait Laptop/Programming_backed/pythonProject/twitter/label3.csv\", index_col = 0)\n",
        "df = df.head(4000)\n",
        "df.columns"
      ]
    },
    {
      "cell_type": "code",
      "execution_count": null,
      "metadata": {
        "colab": {
          "base_uri": "https://localhost:8080/"
        },
        "id": "hAaR7weXGkqo",
        "outputId": "20967831-857a-4f85-c20c-93666ddeaa70"
      },
      "outputs": [
        {
          "output_type": "stream",
          "name": "stdout",
          "text": [
            "Looking in indexes: https://pypi.org/simple, https://us-python.pkg.dev/colab-wheels/public/simple/\n",
            "Requirement already satisfied: textblob in /usr/local/lib/python3.10/dist-packages (0.17.1)\n",
            "Requirement already satisfied: nltk>=3.1 in /usr/local/lib/python3.10/dist-packages (from textblob) (3.8.1)\n",
            "Requirement already satisfied: click in /usr/local/lib/python3.10/dist-packages (from nltk>=3.1->textblob) (8.1.3)\n",
            "Requirement already satisfied: tqdm in /usr/local/lib/python3.10/dist-packages (from nltk>=3.1->textblob) (4.65.0)\n",
            "Requirement already satisfied: regex>=2021.8.3 in /usr/local/lib/python3.10/dist-packages (from nltk>=3.1->textblob) (2022.10.31)\n",
            "Requirement already satisfied: joblib in /usr/local/lib/python3.10/dist-packages (from nltk>=3.1->textblob) (1.2.0)\n"
          ]
        }
      ],
      "source": [
        "!pip install textblob"
      ]
    },
    {
      "cell_type": "code",
      "execution_count": null,
      "metadata": {
        "id": "R98mAvKxhmot"
      },
      "outputs": [],
      "source": [
        "# from textblob import TextBlob\n",
        "\n",
        "# # Text to translate\n",
        "# text = 'My name is Joker, I am playing football.'\n",
        "\n",
        "# # Create a TextBlob object for the text\n",
        "# blob = TextBlob(text)\n",
        "\n",
        "# # Translate the text to Hinglish\n",
        "# result = blob.translate(to='hi')\n",
        "\n",
        "# # Convert the Hinglish output to Latin script\n",
        "# result_latin = result.translate(to='en')\n",
        "\n",
        "# # Print the translated text in Hinglish in Latin script\n",
        "# print(result_latin)\n"
      ]
    },
    {
      "cell_type": "code",
      "execution_count": null,
      "metadata": {
        "id": "euFR7vPbhDJ9"
      },
      "outputs": [],
      "source": [
        "# from transformers import pipeline, RobertaTokenizerFast, TFRobertaForSequenceClassification\n",
        "\n",
        "# # emotion = pipeline(\"sentiment-analysis\",model=\"arpanghoshal/EmoRoBERTa\")\n",
        "# tokernzier = RobertaTokenizerFast.from_pretrained(\"arpanghoshal/EmoRoBERTa\")\n",
        "# model = TFRobertaForSequenceClassification.from_pretrained(\"arpanghoshal/EmoRoBERTa\")\n"
      ]
    },
    {
      "cell_type": "code",
      "execution_count": null,
      "metadata": {
        "colab": {
          "base_uri": "https://localhost:8080/"
        },
        "id": "Rjc6rD0mhDJ9",
        "outputId": "287cfcb1-a64d-4a41-d7a0-3687d891b5d2"
      },
      "outputs": [
        {
          "output_type": "execute_result",
          "data": {
            "text/plain": [
              "Index(['Url', 'Lang', 'tweet', 'MediaUrl', 'clean_tweets', 'polarity',\n",
              "       'emotion', 'hate_speech', 'polarity_le'],\n",
              "      dtype='object')"
            ]
          },
          "metadata": {},
          "execution_count": 8
        }
      ],
      "source": [
        "le_senti = preprocessing.LabelEncoder()\n",
        "# le_polarity.fit(df[\"polarity\"])\n",
        "df[\"polarity_le\"] = le_senti.fit_transform(df[\"polarity\"])\n",
        "df.columns"
      ]
    },
    {
      "cell_type": "code",
      "execution_count": null,
      "metadata": {
        "id": "hZsZO5LUhDJ-"
      },
      "outputs": [],
      "source": [
        "# le_hate = preprocessing.LabelEncoder()\n",
        "# df[\"hate_le\"] = le_hate.fit_transform(df[\"hate_le\"])\n",
        "# df.columns"
      ]
    },
    {
      "cell_type": "code",
      "execution_count": null,
      "metadata": {
        "colab": {
          "base_uri": "https://localhost:8080/"
        },
        "id": "LyIC2Dx0hDJ-",
        "outputId": "1939d982-8f71-4990-c6e4-5cbd6d8d82a2"
      },
      "outputs": [
        {
          "output_type": "stream",
          "name": "stdout",
          "text": [
            "4000\n",
            "   Happy  Angry  Surprise  Sad  Fear\n",
            "0    0.0    0.0      1.00  0.0  0.00\n",
            "1    0.0    0.0      0.00  0.0  1.00\n",
            "2    0.0    0.0      0.00  0.0  1.00\n",
            "3    0.0    0.0      0.33  0.0  0.67\n",
            "4    0.0    0.0      0.00  0.0  0.00\n",
            "Index(['Happy', 'Angry', 'Surprise', 'Sad', 'Fear'], dtype='object')\n"
          ]
        }
      ],
      "source": [
        "# def encode_dict(row):\n",
        "#     le_emo = preprocessing.LabelEncoder()\n",
        "#     encoded_dict = {}\n",
        "#     for key, value in row.items():\n",
        "#         encoded_dict[key] = le_emo.fit_transform([value])[0]\n",
        "#     return encoded_dict\n",
        "\n",
        "# df['le_emotions'] = df['emotion'].apply(encode_dict)\n",
        "# df\n",
        "import ast\n",
        "def dict_to_df(s):\n",
        "    d = ast.literal_eval(s)\n",
        "    df = pd.DataFrame.from_dict(d, orient='index', columns=['value'])\n",
        "    return df.transpose()\n",
        "\n",
        "df_emotions = pd.concat([dict_to_df(s) for s in df['emotion'].values])\n",
        "df_emotions.index = range(len(df_emotions))\n",
        "print(len(df_emotions))\n",
        "print(df_emotions.head(5))\n",
        "print(df_emotions.columns)"
      ]
    },
    {
      "cell_type": "code",
      "execution_count": null,
      "metadata": {
        "colab": {
          "base_uri": "https://localhost:8080/",
          "height": 476
        },
        "id": "XGgef6BdhDJ-",
        "outputId": "59442098-5727-409b-9086-6ae9b16881b2"
      },
      "outputs": [
        {
          "output_type": "execute_result",
          "data": {
            "text/plain": [
              "                                                 Url Lang  \\\n",
              "0  https://twitter.com/Militarylandnet/status/164...   en   \n",
              "1  https://twitter.com/StupidSingapore/status/164...   en   \n",
              "2  https://twitter.com/findfreedom360/status/1640...   en   \n",
              "3  https://twitter.com/Orhan583441/status/1640769...   en   \n",
              "4  https://twitter.com/TrueMythocracy/status/1640...   en   \n",
              "\n",
              "                                               tweet  \\\n",
              "0  📷Ukrainian President Zelensky visited Ukrainia...   \n",
              "1  youtube.com/watch?v=WBesSn…\\n\\nDespicable #Ukr...   \n",
              "2  Drawing process update...📢\\n\\nLatest portrait ...   \n",
              "3  ❗️A militant of the special forces unit Stepan...   \n",
              "4  @ShermanPotter51 @w85785410 So much has change...   \n",
              "\n",
              "                                            MediaUrl  \\\n",
              "0  https://pbs.twimg.com/media/FsUxOJBWIAoVEpj?fo...   \n",
              "1  https://pbs.twimg.com/media/FsUxt2_aAAAV1GS?fo...   \n",
              "2  https://pbs.twimg.com/media/FsUw1ivaEAAEYC8?fo...   \n",
              "3  https://pbs.twimg.com/media/FsUvmARWIAU4KX1?fo...   \n",
              "4  https://pbs.twimg.com/media/FsUtsp1XgBYzWOq?fo...   \n",
              "\n",
              "                                        clean_tweets  polarity  hate_speech  \\\n",
              "0  ukrainian president zelensky visited ukrainian...   Neutral            0   \n",
              "1  youtubewatch v wbessn despicable tank take cov...  Negative            0   \n",
              "2  drawing process update latest portrait ukraine...  Positive            0   \n",
              "3  militant special force unit stepan kurilo liqu...  Positive            0   \n",
              "4  much changed since feb 2022 anyone remember de...   Neutral            0   \n",
              "\n",
              "   polarity_le  Happy  Angry  Surprise  Sad  Fear                      emotion  \n",
              "0            1    0.0    0.0      1.00  0.0  0.00    [0.0, 0.0, 1.0, 0.0, 0.0]  \n",
              "1            0    0.0    0.0      0.00  0.0  1.00    [0.0, 0.0, 0.0, 0.0, 1.0]  \n",
              "2            2    0.0    0.0      0.00  0.0  1.00    [0.0, 0.0, 0.0, 0.0, 1.0]  \n",
              "3            2    0.0    0.0      0.33  0.0  0.67  [0.0, 0.0, 0.33, 0.0, 0.67]  \n",
              "4            1    0.0    0.0      0.00  0.0  0.00    [0.0, 0.0, 0.0, 0.0, 0.0]  "
            ],
            "text/html": [
              "\n",
              "  <div id=\"df-49234835-f471-496f-89aa-16c044e8c605\">\n",
              "    <div class=\"colab-df-container\">\n",
              "      <div>\n",
              "<style scoped>\n",
              "    .dataframe tbody tr th:only-of-type {\n",
              "        vertical-align: middle;\n",
              "    }\n",
              "\n",
              "    .dataframe tbody tr th {\n",
              "        vertical-align: top;\n",
              "    }\n",
              "\n",
              "    .dataframe thead th {\n",
              "        text-align: right;\n",
              "    }\n",
              "</style>\n",
              "<table border=\"1\" class=\"dataframe\">\n",
              "  <thead>\n",
              "    <tr style=\"text-align: right;\">\n",
              "      <th></th>\n",
              "      <th>Url</th>\n",
              "      <th>Lang</th>\n",
              "      <th>tweet</th>\n",
              "      <th>MediaUrl</th>\n",
              "      <th>clean_tweets</th>\n",
              "      <th>polarity</th>\n",
              "      <th>hate_speech</th>\n",
              "      <th>polarity_le</th>\n",
              "      <th>Happy</th>\n",
              "      <th>Angry</th>\n",
              "      <th>Surprise</th>\n",
              "      <th>Sad</th>\n",
              "      <th>Fear</th>\n",
              "      <th>emotion</th>\n",
              "    </tr>\n",
              "  </thead>\n",
              "  <tbody>\n",
              "    <tr>\n",
              "      <th>0</th>\n",
              "      <td>https://twitter.com/Militarylandnet/status/164...</td>\n",
              "      <td>en</td>\n",
              "      <td>📷Ukrainian President Zelensky visited Ukrainia...</td>\n",
              "      <td>https://pbs.twimg.com/media/FsUxOJBWIAoVEpj?fo...</td>\n",
              "      <td>ukrainian president zelensky visited ukrainian...</td>\n",
              "      <td>Neutral</td>\n",
              "      <td>0</td>\n",
              "      <td>1</td>\n",
              "      <td>0.0</td>\n",
              "      <td>0.0</td>\n",
              "      <td>1.00</td>\n",
              "      <td>0.0</td>\n",
              "      <td>0.00</td>\n",
              "      <td>[0.0, 0.0, 1.0, 0.0, 0.0]</td>\n",
              "    </tr>\n",
              "    <tr>\n",
              "      <th>1</th>\n",
              "      <td>https://twitter.com/StupidSingapore/status/164...</td>\n",
              "      <td>en</td>\n",
              "      <td>youtube.com/watch?v=WBesSn…\\n\\nDespicable #Ukr...</td>\n",
              "      <td>https://pbs.twimg.com/media/FsUxt2_aAAAV1GS?fo...</td>\n",
              "      <td>youtubewatch v wbessn despicable tank take cov...</td>\n",
              "      <td>Negative</td>\n",
              "      <td>0</td>\n",
              "      <td>0</td>\n",
              "      <td>0.0</td>\n",
              "      <td>0.0</td>\n",
              "      <td>0.00</td>\n",
              "      <td>0.0</td>\n",
              "      <td>1.00</td>\n",
              "      <td>[0.0, 0.0, 0.0, 0.0, 1.0]</td>\n",
              "    </tr>\n",
              "    <tr>\n",
              "      <th>2</th>\n",
              "      <td>https://twitter.com/findfreedom360/status/1640...</td>\n",
              "      <td>en</td>\n",
              "      <td>Drawing process update...📢\\n\\nLatest portrait ...</td>\n",
              "      <td>https://pbs.twimg.com/media/FsUw1ivaEAAEYC8?fo...</td>\n",
              "      <td>drawing process update latest portrait ukraine...</td>\n",
              "      <td>Positive</td>\n",
              "      <td>0</td>\n",
              "      <td>2</td>\n",
              "      <td>0.0</td>\n",
              "      <td>0.0</td>\n",
              "      <td>0.00</td>\n",
              "      <td>0.0</td>\n",
              "      <td>1.00</td>\n",
              "      <td>[0.0, 0.0, 0.0, 0.0, 1.0]</td>\n",
              "    </tr>\n",
              "    <tr>\n",
              "      <th>3</th>\n",
              "      <td>https://twitter.com/Orhan583441/status/1640769...</td>\n",
              "      <td>en</td>\n",
              "      <td>❗️A militant of the special forces unit Stepan...</td>\n",
              "      <td>https://pbs.twimg.com/media/FsUvmARWIAU4KX1?fo...</td>\n",
              "      <td>militant special force unit stepan kurilo liqu...</td>\n",
              "      <td>Positive</td>\n",
              "      <td>0</td>\n",
              "      <td>2</td>\n",
              "      <td>0.0</td>\n",
              "      <td>0.0</td>\n",
              "      <td>0.33</td>\n",
              "      <td>0.0</td>\n",
              "      <td>0.67</td>\n",
              "      <td>[0.0, 0.0, 0.33, 0.0, 0.67]</td>\n",
              "    </tr>\n",
              "    <tr>\n",
              "      <th>4</th>\n",
              "      <td>https://twitter.com/TrueMythocracy/status/1640...</td>\n",
              "      <td>en</td>\n",
              "      <td>@ShermanPotter51 @w85785410 So much has change...</td>\n",
              "      <td>https://pbs.twimg.com/media/FsUtsp1XgBYzWOq?fo...</td>\n",
              "      <td>much changed since feb 2022 anyone remember de...</td>\n",
              "      <td>Neutral</td>\n",
              "      <td>0</td>\n",
              "      <td>1</td>\n",
              "      <td>0.0</td>\n",
              "      <td>0.0</td>\n",
              "      <td>0.00</td>\n",
              "      <td>0.0</td>\n",
              "      <td>0.00</td>\n",
              "      <td>[0.0, 0.0, 0.0, 0.0, 0.0]</td>\n",
              "    </tr>\n",
              "  </tbody>\n",
              "</table>\n",
              "</div>\n",
              "      <button class=\"colab-df-convert\" onclick=\"convertToInteractive('df-49234835-f471-496f-89aa-16c044e8c605')\"\n",
              "              title=\"Convert this dataframe to an interactive table.\"\n",
              "              style=\"display:none;\">\n",
              "        \n",
              "  <svg xmlns=\"http://www.w3.org/2000/svg\" height=\"24px\"viewBox=\"0 0 24 24\"\n",
              "       width=\"24px\">\n",
              "    <path d=\"M0 0h24v24H0V0z\" fill=\"none\"/>\n",
              "    <path d=\"M18.56 5.44l.94 2.06.94-2.06 2.06-.94-2.06-.94-.94-2.06-.94 2.06-2.06.94zm-11 1L8.5 8.5l.94-2.06 2.06-.94-2.06-.94L8.5 2.5l-.94 2.06-2.06.94zm10 10l.94 2.06.94-2.06 2.06-.94-2.06-.94-.94-2.06-.94 2.06-2.06.94z\"/><path d=\"M17.41 7.96l-1.37-1.37c-.4-.4-.92-.59-1.43-.59-.52 0-1.04.2-1.43.59L10.3 9.45l-7.72 7.72c-.78.78-.78 2.05 0 2.83L4 21.41c.39.39.9.59 1.41.59.51 0 1.02-.2 1.41-.59l7.78-7.78 2.81-2.81c.8-.78.8-2.07 0-2.86zM5.41 20L4 18.59l7.72-7.72 1.47 1.35L5.41 20z\"/>\n",
              "  </svg>\n",
              "      </button>\n",
              "      \n",
              "  <style>\n",
              "    .colab-df-container {\n",
              "      display:flex;\n",
              "      flex-wrap:wrap;\n",
              "      gap: 12px;\n",
              "    }\n",
              "\n",
              "    .colab-df-convert {\n",
              "      background-color: #E8F0FE;\n",
              "      border: none;\n",
              "      border-radius: 50%;\n",
              "      cursor: pointer;\n",
              "      display: none;\n",
              "      fill: #1967D2;\n",
              "      height: 32px;\n",
              "      padding: 0 0 0 0;\n",
              "      width: 32px;\n",
              "    }\n",
              "\n",
              "    .colab-df-convert:hover {\n",
              "      background-color: #E2EBFA;\n",
              "      box-shadow: 0px 1px 2px rgba(60, 64, 67, 0.3), 0px 1px 3px 1px rgba(60, 64, 67, 0.15);\n",
              "      fill: #174EA6;\n",
              "    }\n",
              "\n",
              "    [theme=dark] .colab-df-convert {\n",
              "      background-color: #3B4455;\n",
              "      fill: #D2E3FC;\n",
              "    }\n",
              "\n",
              "    [theme=dark] .colab-df-convert:hover {\n",
              "      background-color: #434B5C;\n",
              "      box-shadow: 0px 1px 3px 1px rgba(0, 0, 0, 0.15);\n",
              "      filter: drop-shadow(0px 1px 2px rgba(0, 0, 0, 0.3));\n",
              "      fill: #FFFFFF;\n",
              "    }\n",
              "  </style>\n",
              "\n",
              "      <script>\n",
              "        const buttonEl =\n",
              "          document.querySelector('#df-49234835-f471-496f-89aa-16c044e8c605 button.colab-df-convert');\n",
              "        buttonEl.style.display =\n",
              "          google.colab.kernel.accessAllowed ? 'block' : 'none';\n",
              "\n",
              "        async function convertToInteractive(key) {\n",
              "          const element = document.querySelector('#df-49234835-f471-496f-89aa-16c044e8c605');\n",
              "          const dataTable =\n",
              "            await google.colab.kernel.invokeFunction('convertToInteractive',\n",
              "                                                     [key], {});\n",
              "          if (!dataTable) return;\n",
              "\n",
              "          const docLinkHtml = 'Like what you see? Visit the ' +\n",
              "            '<a target=\"_blank\" href=https://colab.research.google.com/notebooks/data_table.ipynb>data table notebook</a>'\n",
              "            + ' to learn more about interactive tables.';\n",
              "          element.innerHTML = '';\n",
              "          dataTable['output_type'] = 'display_data';\n",
              "          await google.colab.output.renderOutput(dataTable, element);\n",
              "          const docLink = document.createElement('div');\n",
              "          docLink.innerHTML = docLinkHtml;\n",
              "          element.appendChild(docLink);\n",
              "        }\n",
              "      </script>\n",
              "    </div>\n",
              "  </div>\n",
              "  "
            ]
          },
          "metadata": {},
          "execution_count": 11
        }
      ],
      "source": [
        "# df_emotions.drop(columns=[\"index\"], inplace=True, axis=1)\n",
        "# # df_result = pd.concat([df, df_emotions], axis=1, join=\"inner\",ignore_index=False)\n",
        "df_result = pd.concat([df, df_emotions], join=\"inner\", axis=1)\n",
        "len(df_result)\n",
        "df_result.drop(columns=[\"emotion\"], inplace=True)\n",
        "df_result['emotion'] = df_result.apply(lambda row: [row[\"Happy\"], row['Angry'], row['Surprise'], row[\"Sad\"],row['Fear']], axis=1)\n",
        "# df_result.drop(columns=['Happy', 'Angry', 'Surprise', 'Sad', 'Fear'], inplace=True)\n",
        "df_result.head(5)"
      ]
    },
    {
      "cell_type": "code",
      "execution_count": null,
      "metadata": {
        "colab": {
          "base_uri": "https://localhost:8080/"
        },
        "id": "jHFU0GRKhDJ-",
        "outputId": "bfd59825-f4f4-483a-fc3e-00a8aa834204"
      },
      "outputs": [
        {
          "output_type": "execute_result",
          "data": {
            "text/plain": [
              "array([[0.  , 0.  , 1.  , 0.  , 0.  ],\n",
              "       [0.  , 0.  , 0.  , 0.  , 1.  ],\n",
              "       [0.  , 0.  , 0.  , 0.  , 1.  ],\n",
              "       ...,\n",
              "       [0.  , 0.12, 0.12, 0.38, 0.38],\n",
              "       [0.  , 0.  , 0.  , 0.4 , 0.6 ],\n",
              "       [0.  , 0.  , 0.  , 0.62, 0.38]])"
            ]
          },
          "metadata": {},
          "execution_count": 12
        }
      ],
      "source": [
        "# .to_numpy()\n",
        "np.array([np.array(x).astype(float) for x in df_result['emotion']])"
      ]
    },
    {
      "cell_type": "code",
      "execution_count": null,
      "metadata": {
        "id": "oM-0WThR6kZr"
      },
      "outputs": [],
      "source": []
    },
    {
      "cell_type": "code",
      "execution_count": null,
      "metadata": {
        "colab": {
          "base_uri": "https://localhost:8080/"
        },
        "id": "AyL25bwI6mSl",
        "outputId": "c97ed75e-0436-4b3a-c01d-31a09946be44"
      },
      "outputs": [
        {
          "output_type": "execute_result",
          "data": {
            "text/plain": [
              "0       0.00\n",
              "1       0.00\n",
              "2       0.00\n",
              "3       0.00\n",
              "4       0.00\n",
              "        ... \n",
              "3995    0.33\n",
              "3996    0.00\n",
              "3997    0.00\n",
              "3998    0.00\n",
              "3999    0.00\n",
              "Name: Happy, Length: 4000, dtype: float64"
            ]
          },
          "metadata": {},
          "execution_count": 13
        }
      ],
      "source": [
        "df_result['Happy']"
      ]
    },
    {
      "cell_type": "code",
      "execution_count": null,
      "metadata": {
        "colab": {
          "base_uri": "https://localhost:8080/"
        },
        "id": "3hex7SvThDJ_",
        "outputId": "0f4b54ee-4ddd-4a94-e776-9d4e76be9b22"
      },
      "outputs": [
        {
          "output_type": "execute_result",
          "data": {
            "text/plain": [
              "((3200,), (800,), (3200, 3), (800, 3))"
            ]
          },
          "metadata": {},
          "execution_count": 14
        }
      ],
      "source": [
        "from sklearn.model_selection import train_test_split\n",
        "\n",
        "X = df_result['clean_tweets'].values\n",
        "y = df_result[['polarity_le',\"emotion\",\"hate_speech\"]].values\n",
        "\n",
        "# Split the data into training and testing sets\n",
        "X_train, X_test, y_train, y_test = train_test_split(X, y, test_size=0.20, random_state=42)\n",
        "X_train.shape, X_test.shape, y_train.shape, y_test.shape"
      ]
    },
    {
      "cell_type": "code",
      "execution_count": null,
      "metadata": {
        "colab": {
          "base_uri": "https://localhost:8080/"
        },
        "id": "8a0dMtKBhDJ_",
        "outputId": "9e808fb0-490f-4516-ad6c-1be6c78e1a4b"
      },
      "outputs": [
        {
          "output_type": "execute_result",
          "data": {
            "text/plain": [
              "array([0, 0, 0, 0, 0], dtype=object)"
            ]
          },
          "metadata": {},
          "execution_count": 15
        }
      ],
      "source": [
        "y_train[:5,2]"
      ]
    },
    {
      "cell_type": "code",
      "execution_count": null,
      "metadata": {
        "colab": {
          "base_uri": "https://localhost:8080/"
        },
        "id": "ReSmmDhnhDJ_",
        "outputId": "e424480a-f776-48ba-e908-15f93661861b"
      },
      "outputs": [
        {
          "output_type": "execute_result",
          "data": {
            "text/plain": [
              "11030"
            ]
          },
          "metadata": {},
          "execution_count": 16
        }
      ],
      "source": [
        "def get_tot_words(array):\n",
        "    text = \" \".join(array)\n",
        "    return len(set(text.split()))\n",
        "# train_samples\n",
        "tot_words = get_tot_words(X_train)\n",
        "tot_words"
      ]
    },
    {
      "cell_type": "code",
      "execution_count": null,
      "metadata": {
        "id": "cb7B8tdzhDJ_"
      },
      "outputs": [],
      "source": [
        "vectorizer = TextVectorization(max_tokens = None, output_sequence_length = 105)\n",
        "text_ds = tf.data.Dataset.from_tensor_slices(X_train).batch(128)\n",
        "vectorizer.adapt(text_ds)"
      ]
    },
    {
      "cell_type": "code",
      "execution_count": null,
      "metadata": {
        "id": "k2K3xU-khDJ_"
      },
      "outputs": [],
      "source": [
        "voc = vectorizer.get_vocabulary()\n",
        "word_index = dict(zip(voc, range(len(voc))))"
      ]
    },
    {
      "cell_type": "markdown",
      "metadata": {
        "id": "NUJlw1FzhDKA"
      },
      "source": [
        "**TRANING MODEL**"
      ]
    },
    {
      "cell_type": "code",
      "execution_count": null,
      "metadata": {
        "colab": {
          "base_uri": "https://localhost:8080/"
        },
        "id": "lH3Jtav3hDKB",
        "outputId": "21571620-d784-49ac-8b5e-47051a1adaef"
      },
      "outputs": [
        {
          "output_type": "stream",
          "name": "stdout",
          "text": [
            "Found 400000 word vectors.\n"
          ]
        }
      ],
      "source": [
        "# glove_file = '../input/glove6b200d'\n",
        "glove_file = \"/content/drive/Othercomputers/Advait Laptop/Programming_backed/pythonProject/twitter/glove_file\" \n",
        "path_to_glove_file = os.path.join(glove_file, \"glove.6B.200d.txt\")\n",
        "embeddings_index = {}\n",
        "with open(path_to_glove_file, encoding = \"utf-8\") as f:\n",
        "    for line in f:\n",
        "        word, coefs = line.split(maxsplit = 1)\n",
        "        coefs = np.fromstring(coefs, \"f\", sep = \" \")\n",
        "        embeddings_index[word] = coefs\n",
        "print(\"Found %s word vectors.\" % len(embeddings_index))"
      ]
    },
    {
      "cell_type": "code",
      "execution_count": null,
      "metadata": {
        "colab": {
          "base_uri": "https://localhost:8080/"
        },
        "id": "GQatbKjChDKB",
        "outputId": "465f9388-5b06-4f03-d5ef-6257ef50d347"
      },
      "outputs": [
        {
          "output_type": "stream",
          "name": "stdout",
          "text": [
            "Converted 8228 words (2804 misses)\n"
          ]
        }
      ],
      "source": [
        "num_tokens = len(voc) + 2\n",
        "embedding_dim = 200\n",
        "hits = 0\n",
        "misses = 0\n",
        "\n",
        "# Prepare Embedding Matrix\n",
        "embedding_matrix = np.zeros((num_tokens, embedding_dim))\n",
        "for word, i in word_index.items():\n",
        "    embedding_vector = embeddings_index.get(word)\n",
        "    if embedding_vector is not None:\n",
        "        # Words not found in embedding index will be zeroes.\n",
        "        # This includes the representation for \"padding\" and \"OOV\"\n",
        "        embedding_matrix[i] = embedding_vector\n",
        "        hits += 1\n",
        "    else:\n",
        "        misses += 1\n",
        "print(\"Converted %d words (%d misses)\" % (hits, misses))\n"
      ]
    },
    {
      "cell_type": "code",
      "execution_count": null,
      "metadata": {
        "id": "Rl1G9RLJhDKB"
      },
      "outputs": [],
      "source": [
        "# import tensorflow as tf\n",
        "# from tensorflow import keras\n",
        "# from tensorflow.keras import layers\n",
        "\n",
        "# class ConcatLayer(layers.Layer):\n",
        "#     def __init__(self, **kwargs):\n",
        "#         super(ConcatLayer, self).__init__(**kwargs)\n",
        "\n",
        "#     def call(self, inputs):\n",
        "#         return tf.concat(inputs, axis=-1)\n",
        "\n",
        "# sentence_input = keras.Input(shape=(None,), dtype=\"int64\", name='sentence_input')\n",
        "# embedded_sentence = embedding_layer(sentence_input)\n",
        "# x = layers.Bidirectional(layers.LSTM(len(X_train)//4, return_sequences=True, dropout=0.50, recurrent_dropout=0.25, name=\"LSTM_1\"), name=\"bi_1\")(embedded_sentence)\n",
        "# x = ConcatLayer()([x, x])\n",
        "# senti_branch = layers.TimeDistributed(layers.Dense(3, activation='softmax', name=\"senti_dense\"), name='senti_output')(x)\n",
        "# emot_branch = layers.TimeDistributed(layers.Dense(len(['Happy', 'Angry', 'Surprise', 'Sad', 'Fear']), activation='sigmoid', name=\"emo_dense\"), name='emo_out')(x)\n",
        "\n",
        "# model = keras.Model(inputs=sentence_input, outputs=[senti_branch, emot_branch], name=\"model_1\")\n"
      ]
    },
    {
      "cell_type": "code",
      "execution_count": null,
      "metadata": {
        "id": "9PfrNYAvhDKC"
      },
      "outputs": [],
      "source": [
        "# from tensorflow.keras.preprocessing.text import Tokenizer\n",
        "\n",
        "# # # Create a tokenizer object\n",
        "# # tokenizer = Tokenizer()\n",
        "\n",
        "# # # Fit the tokenizer on your training data\n",
        "# # tokenizer.fit_on_texts(X_train)\n",
        "# tokenizer = Tokenizer(num_words=vocab_size)\n",
        "# vocab_size = len(tokenizer.word_index) + 1\n",
        "\n",
        "# embedding_layer = layers.Embedding(\n",
        "#     num_tokens,\n",
        "#     embedding_dim,\n",
        "#     embeddings_initializer = keras.initializers.Constant(embedding_matrix),\n",
        "#     trainable = False)"
      ]
    },
    {
      "cell_type": "code",
      "execution_count": null,
      "metadata": {
        "id": "cYirr1-chDKC"
      },
      "outputs": [],
      "source": [
        "embedding_layer = layers.Embedding(\n",
        "    num_tokens,\n",
        "    embedding_dim,\n",
        "    embeddings_initializer = keras.initializers.Constant(embedding_matrix),\n",
        "    trainable = False)\n"
      ]
    },
    {
      "cell_type": "code",
      "execution_count": null,
      "metadata": {
        "colab": {
          "base_uri": "https://localhost:8080/"
        },
        "id": "beCXAwYThDKC",
        "outputId": "45a25366-021e-4ab4-a17a-0acebf3475a6"
      },
      "outputs": [
        {
          "output_type": "stream",
          "name": "stderr",
          "text": [
            "WARNING:tensorflow:Layer LSTM_1 will not use cuDNN kernels since it doesn't meet the criteria. It will use a generic GPU kernel as fallback when running on GPU.\n",
            "WARNING:tensorflow:Layer LSTM_1 will not use cuDNN kernels since it doesn't meet the criteria. It will use a generic GPU kernel as fallback when running on GPU.\n",
            "WARNING:tensorflow:Layer LSTM_1 will not use cuDNN kernels since it doesn't meet the criteria. It will use a generic GPU kernel as fallback when running on GPU.\n"
          ]
        }
      ],
      "source": [
        "import tensorflow as tf\n",
        "from tensorflow import keras\n",
        "from tensorflow.keras import layers\n",
        "\n",
        "# define the inputs and embedding layer\n",
        "sentence_input = keras.Input(shape=(None,), dtype=\"int64\", name='sentence_input')\n",
        "# embedding_layer = layers.Embedding(vocab_size, embedding_dim, weights=[embedding_matrix], trainable=False, name = 'embed_layer')\n",
        "embedded_sentence = embedding_layer(sentence_input)\n",
        "\n",
        "# define the model architecture\n",
        "x = layers.Bidirectional(layers.LSTM(len(X_train)//2, return_sequences=True, dropout=0.50, recurrent_dropout=0.25, name=\"LSTM_1\"), name=\"bi_1\")(embedded_sentence)\n",
        "senti_branch = layers.TimeDistributed(layers.Dense(3, activation='softmax', name=\"senti_dense\"), name='senti_output')(x)\n",
        "emot_branch = layers.TimeDistributed(layers.Dense(len(['Happy', 'Angry', 'Surprise', 'Sad', 'Fear']), activation='sigmoid', name=\"emo_dense\"), name='emo_out')(x)\n",
        "hate_branch = layers.TimeDistributed(layers.Dense(2, activation = 'sigmoid', name = \"hate_dense\"), name = 'hate_out')(x)\n",
        "\n",
        "# define the custom layer\n",
        "class CustomLayer(keras.layers.Layer):\n",
        "    def __init__(self, units=64, activation=None, **kwargs):\n",
        "        super(CustomLayer, self).__init__(**kwargs)\n",
        "        self.units = units\n",
        "        self.activation = keras.activations.get(activation)\n",
        "\n",
        "    def build(self, input_shape):\n",
        "        self.kernel = self.add_weight(\n",
        "            name='kernel',\n",
        "            shape=(input_shape[-1], self.units),\n",
        "            initializer='glorot_uniform',\n",
        "            trainable=True)\n",
        "\n",
        "        super(CustomLayer, self).build(input_shape)\n",
        "\n",
        "    def call(self, inputs):\n",
        "        output = keras.backend.dot(inputs, self.kernel)\n",
        "        if self.activation is not None:\n",
        "            output = self.activation(output)\n",
        "        return output\n",
        "\n",
        "    def compute_output_shape(self, input_shape):\n",
        "        return (input_shape[0], self.units)\n",
        "\n",
        "\n",
        "# use the custom layer on the symbolic input/output\n",
        "# custom_layer = CustomLayer(name=\"custom_layer\")(embedded_sentence)\n",
        "\n",
        "# define the model and compile it\n"
      ]
    },
    {
      "cell_type": "code",
      "execution_count": null,
      "metadata": {
        "colab": {
          "base_uri": "https://localhost:8080/"
        },
        "id": "C8qEIc4jhDKC",
        "outputId": "a8884f9b-8c46-4c56-cfab-23dbcac9d9a3"
      },
      "outputs": [
        {
          "output_type": "stream",
          "name": "stdout",
          "text": [
            "Model: \"model_1\"\n",
            "__________________________________________________________________________________________________\n",
            " Layer (type)                   Output Shape         Param #     Connected to                     \n",
            "==================================================================================================\n",
            " sentence_input (InputLayer)    [(None, None)]       0           []                               \n",
            "                                                                                                  \n",
            " embedding (Embedding)          (None, None, 200)    2206800     ['sentence_input[0][0]']         \n",
            "                                                                                                  \n",
            " bi_1 (Bidirectional)           (None, None, 3200)   23052800    ['embedding[0][0]']              \n",
            "                                                                                                  \n",
            " senti_output (TimeDistributed)  (None, None, 3)     9603        ['bi_1[0][0]']                   \n",
            "                                                                                                  \n",
            " emo_out (TimeDistributed)      (None, None, 5)      16005       ['bi_1[0][0]']                   \n",
            "                                                                                                  \n",
            " hate_out (TimeDistributed)     (None, None, 2)      6402        ['bi_1[0][0]']                   \n",
            "                                                                                                  \n",
            "==================================================================================================\n",
            "Total params: 25,291,610\n",
            "Trainable params: 23,084,810\n",
            "Non-trainable params: 2,206,800\n",
            "__________________________________________________________________________________________________\n"
          ]
        }
      ],
      "source": [
        "model = keras.Model(inputs=sentence_input,\n",
        "                    outputs=[senti_branch, emot_branch, hate_branch], \n",
        "                    name=\"model_1\",)\n",
        "# model.compile(optimizer='adam', loss=['categorical_crossentropy', 'binary_crossentropy', 'mse'])\n",
        "\n",
        "# print the summary of the model\n",
        "model.summary()\n"
      ]
    },
    {
      "cell_type": "code",
      "execution_count": null,
      "metadata": {
        "id": "B3JBwoVyhDKD"
      },
      "outputs": [],
      "source": [
        "# sentence_input = keras.Input(shape = (None, ), dtype = \"int64\", name = 'sentence_input')\n",
        "# embedded_sentence = embedding_layer(sentence_input)\n",
        "# x = layers.Bidirectional(layers.LSTM(len(X_train)//2, return_sequences = True, dropout = 0.50, recurrent_dropout = 0.25, name = \"LSTM_1\"), name = \"bi_1\")(embedded_sentence)\n",
        "# senti_branch = layers.TimeDistributed(layers.Dense(3, activation = 'softmax', name = \"senti_dense\"), name = 'senti_output')(x)\n",
        "# emot_branch = layers.TimeDistributed(layers.Dense(len(['Happy', 'Angry', 'Surprise', 'Sad', 'Fear']), activation = 'sigmoid', name = \"emo_dense\"), name = 'emo_out')(x)\n",
        "# # hate_branch = layers.TimeDistributed(layers.Dense(len(), activation = 'softmax', name = \"hate_dense\"), name = 'hate_output')(x)\n",
        "\n",
        "# model = keras.Model(inputs = sentence_input, outputs = [senti_branch, emot_branch], name = \"model_1\")\n",
        "# model.summary()\n"
      ]
    },
    {
      "cell_type": "code",
      "execution_count": null,
      "metadata": {
        "id": "guyoa82BhDKD"
      },
      "outputs": [],
      "source": [
        "# import torch\n",
        "# import torch.nn as nn\n",
        "\n",
        "# class BidirectionalLSTM(nn.Module):\n",
        "#     def __init__(self, input_size, hidden_size, num_layers, dropout):\n",
        "#         super(BidirectionalLSTM, self).__init__()\n",
        "#         self.lstm = nn.LSTM(input_size=input_size, hidden_size=hidden_size, num_layers=num_layers, bidirectional=True, dropout=dropout, batch_first=True)\n",
        "\n",
        "#     def forward(self, x):\n",
        "#         out, _ = self.lstm(x)\n",
        "#         return out\n",
        "\n",
        "# class ConcatLayer(nn.Module):\n",
        "#     def __init__(self):\n",
        "#         super(ConcatLayer, self).__init__()\n",
        "\n",
        "#     def forward(self, x):\n",
        "#         return torch.cat(x, dim=-1)\n",
        "\n",
        "# class Model(nn.Module):\n",
        "#     def __init__(self, embedding_matrix, num_classes):\n",
        "#         super(Model, self).__init__()\n",
        "#         self.embedding_layer = nn.Embedding.from_pretrained(torch.tensor(embedding_matrix, dtype=torch.float))\n",
        "#         self.lstm = BidirectionalLSTM(input_size=embedding_matrix.shape[1], hidden_size=embedding_matrix.shape[1]//2, num_layers=1, dropout=0.5)\n",
        "#         self.concat_layer = ConcatLayer()\n",
        "#         self.senti_branch = nn.Sequential(nn.Linear(embedding_matrix.shape[1], 3), nn.Softmax(dim=-1))\n",
        "#         self.emot_branch = nn.Sequential(nn.Linear(embedding_matrix.shape[1]*2, len(['Happy', 'Angry', 'Surprise', 'Sad', 'Fear'])), nn.Sigmoid())\n",
        "\n",
        "#     def forward(self, x):\n",
        "#         embedded_sentence = self.embedding_layer(x)\n",
        "#         lstm_out = self.lstm(embedded_sentence)\n",
        "#         lstm_out_concat = self.concat_layer([lstm_out, lstm_out])\n",
        "#         senti_out = self.senti_branch(lstm_out)\n",
        "#         emot_out = self.emot_branch(lstm_out_concat)\n",
        "#         return senti_out, emot_out\n",
        "# model = Model(, (3,5))\n",
        "# senti_out, emot_out = model(x_input)"
      ]
    },
    {
      "cell_type": "code",
      "execution_count": null,
      "metadata": {
        "id": "-EAz5QS2hDKD"
      },
      "outputs": [],
      "source": [
        "# import torch.optim as optim\n",
        "\n",
        "# criterion_senti = nn.BCELoss()\n",
        "# criterion_emot = nn.BCELoss()\n",
        "# optimizer = optim.Adam(model.parameters())\n",
        "\n",
        "# # During training:\n",
        "# senti_out, emot_out = model(input_tensor)\n",
        "# loss_senti = criterion_senti(senti_out, y1_in)\n",
        "# loss_emot = criterion_emot(emot_out, y2_in)\n",
        "# loss = loss_senti + loss_emot\n",
        "# optimizer.zero_grad()\n",
        "# loss.backward()\n",
        "# optimizer.step()\n"
      ]
    },
    {
      "cell_type": "code",
      "execution_count": null,
      "metadata": {
        "colab": {
          "base_uri": "https://localhost:8080/",
          "height": 422
        },
        "id": "beOryCYzhDKD",
        "outputId": "5893d537-9f77-41c1-e038-52190b5f9769"
      },
      "outputs": [
        {
          "output_type": "execute_result",
          "data": {
            "image/png": "[encoded data removed]",
            "text/plain": [
              "<IPython.core.display.Image object>"
            ]
          },
          "metadata": {},
          "execution_count": 29
        }
      ],
      "source": [
        "tf.keras.utils.plot_model(model, to_file = 'model_plot.png', show_shapes = True, show_layer_names = True)"
      ]
    },
    {
      "cell_type": "code",
      "execution_count": null,
      "metadata": {
        "id": "4Z881nnuhDKD"
      },
      "outputs": [],
      "source": [
        "# # opt = keras.optimizers.RMSprop(lr = 1e-3)\n",
        "# model.compile(optimizer='adam',\n",
        "#               loss = {'senti_output': 'binary_crossentropy', 'emo_out': 'binary_crossentropy'},\n",
        "#               metrics=['accuracy']\n",
        "#               )"
      ]
    },
    {
      "cell_type": "code",
      "execution_count": null,
      "metadata": {
        "colab": {
          "base_uri": "https://localhost:8080/"
        },
        "id": "adO0HdvmhDKD",
        "outputId": "dc98c92c-4e80-47b5-d73b-602b843cf3e0"
      },
      "outputs": [
        {
          "output_type": "execute_result",
          "data": {
            "text/plain": [
              "array([2, 2, 1, ..., 2, 2, 2], dtype=object)"
            ]
          },
          "metadata": {},
          "execution_count": 31
        }
      ],
      "source": [
        "y_train[:, 0]"
      ]
    },
    {
      "cell_type": "code",
      "execution_count": null,
      "metadata": {
        "colab": {
          "base_uri": "https://localhost:8080/"
        },
        "id": "A5yFMrmghDKE",
        "outputId": "d92cddf5-7b24-4705-f6b6-5968f4feef73"
      },
      "outputs": [
        {
          "output_type": "execute_result",
          "data": {
            "text/plain": [
              "array([[0.5 , 0.  , 0.  , 0.  , 0.5 ],\n",
              "       [0.  , 0.  , 0.  , 0.25, 0.75],\n",
              "       [0.  , 0.  , 0.  , 0.  , 0.  ],\n",
              "       ...,\n",
              "       [0.  , 0.  , 0.  , 0.  , 1.  ],\n",
              "       [0.  , 0.  , 0.5 , 0.  , 0.5 ],\n",
              "       [0.  , 0.17, 0.  , 0.5 , 0.33]])"
            ]
          },
          "metadata": {},
          "execution_count": 32
        }
      ],
      "source": [
        "np.array([np.array(x).astype(float) for x in y_train[:, 1]])"
      ]
    },
    {
      "cell_type": "code",
      "execution_count": null,
      "metadata": {
        "colab": {
          "base_uri": "https://localhost:8080/"
        },
        "id": "yVxPKJanhDKE",
        "outputId": "bbd60bc1-42f8-4472-f047-7c68d6d46c90"
      },
      "outputs": [
        {
          "output_type": "stream",
          "name": "stdout",
          "text": [
            "[name: \"/device:CPU:0\"\n",
            "device_type: \"CPU\"\n",
            "memory_limit: 268435456\n",
            "locality {\n",
            "}\n",
            "incarnation: 641518180464418141\n",
            "xla_global_id: -1\n",
            ", name: \"/device:GPU:0\"\n",
            "device_type: \"GPU\"\n",
            "memory_limit: 14343274496\n",
            "locality {\n",
            "  bus_id: 1\n",
            "  links {\n",
            "  }\n",
            "}\n",
            "incarnation: 8340949675969427045\n",
            "physical_device_desc: \"device: 0, name: Tesla T4, pci bus id: 0000:00:04.0, compute capability: 7.5\"\n",
            "xla_global_id: 416903419\n",
            "]\n"
          ]
        }
      ],
      "source": [
        "from tensorflow.python.client import device_lib \n",
        "print(device_lib.list_local_devices())"
      ]
    },
    {
      "cell_type": "code",
      "execution_count": null,
      "metadata": {
        "colab": {
          "base_uri": "https://localhost:8080/"
        },
        "id": "RohlpMHvhDKE",
        "outputId": "d331b856-a503-42fe-f8f4-7ec5d6b1ea6e"
      },
      "outputs": [
        {
          "output_type": "execute_result",
          "data": {
            "text/plain": [
              "(TensorShape([3200, 105]),\n",
              " TensorShape([3200, 105, 3]),\n",
              " TensorShape([3200, 1, 5]),\n",
              " TensorShape([3200, 105, 2]))"
            ]
          },
          "metadata": {},
          "execution_count": 34
        }
      ],
      "source": [
        "# x_in = tf.convert_to_tensor(X_train)\n",
        "# x_in = np.expand_dims(x_in, axis=1)\n",
        "# X_train = X_train.astype(np.float32)\n",
        "# y_train = y_train.astype(np.float32)\n",
        "# x_in = tf.expand_dims(tf.expand_dims(x, axis=-1), axis=-1)\n",
        "# dims = [d for d in x_in.shape.as_list() if d is not None]\n",
        "# new_shape = tf.TensorShape(dims)\n",
        "# x_input = tf.reshape(x_in, new_shape)\n",
        "# x_in = tf.constant(X_train)\n",
        "# x_input = tf.expand_dims(x_in, axis=1)\n",
        "x_input = vectorizer(np.array([[s] for s in X_train]))\n",
        "y1_in = tf.one_hot(y_train[:, 0], depth=3)\n",
        "y1_in = tf.expand_dims(y1_in, axis=1)\n",
        "y1_in = tf.repeat(y1_in, repeats=105, axis=1)  # repeat along the second axis\n",
        "y1_in = tf.reshape(y1_in, shape=(-1, 105, 3))  # reshape to match x_input\n",
        "# y1_in = tf.reshape(y1_in, [9609, 105, 3])\n",
        "y2_in = tf.expand_dims(tf.convert_to_tensor(np.array([np.array(x).astype(float) for x in y_train[:, 1]])), axis=1)\n",
        "y3_in = tf.one_hot(y_train[:, 2], depth=2)\n",
        "y3_in = tf.expand_dims(y3_in, axis=1)\n",
        "y3_in = tf.repeat(y3_in, repeats=105, axis=1)  # repeat along the second axis\n",
        "y3_in = tf.reshape(y3_in, shape=(-1, 105, 2))  # reshape to match x_input\n",
        "\n",
        "\n",
        "x_input.shape, y1_in.shape, y2_in.shape, y3_in.shape"
      ]
    },
    {
      "cell_type": "code",
      "execution_count": null,
      "metadata": {
        "id": "B9bD-mj4hDKE"
      },
      "outputs": [],
      "source": [
        "# from tensorflow.keras.preprocessing.sequence import pad_sequences\n",
        "\n",
        "# tokenizer = Tokenizer(num_words=vocab_size)\n",
        "# tokenizer.fit_on_texts(X_train)\n",
        "# max_length = max(len(sentence) for sentence in X_train)\n",
        "# print(max_length)\n",
        "# # Convert the sentences to sequences of integers\n",
        "# X_train_seq = tokenizer.texts_to_sequences(X_train)\n",
        "\n",
        "# # Pad the sequences to a fixed length\n",
        "# X_train_seq_padded = pad_sequences(X_train_seq, maxlen=max_length)\n",
        "\n",
        "# # Convert the sequences to a numpy array of integers\n",
        "# # x_input = np.array(X_train_seq_padded)\n",
        "# x_input.shape"
      ]
    },
    {
      "cell_type": "code",
      "execution_count": null,
      "metadata": {
        "id": "uMVSsK7khDKE"
      },
      "outputs": [],
      "source": [
        "model.compile(optimizer='adam',\n",
        "              loss={'senti_output': 'categorical_crossentropy', 'emo_out': 'binary_crossentropy','hate_out': 'binary_crossentropy'},\n",
        "              metrics=['accuracy'])\n",
        "              # metrics=['accuracy'])\n",
        "# senti_reshaped = layers.Reshape((None, 3), name='senti_reshaped')(senti_branch)\n"
      ]
    },
    {
      "cell_type": "code",
      "execution_count": null,
      "metadata": {
        "id": "G_dXxPa3Ol7S"
      },
      "outputs": [],
      "source": [
        "from tensorflow.keras.callbacks import ModelCheckpoint\n",
        "\n",
        "checkpoint_path =  '/content/drive/Othercomputers/Advait Laptop/Programming_backed/pythonProject/twitter/saved model/model.ckpt'\n",
        "checkpoint_callback = ModelCheckpoint(\n",
        "    filepath=checkpoint_path,\n",
        "    save_weights_only=True,\n",
        "    save_freq='epoch')"
      ]
    },
    {
      "cell_type": "code",
      "execution_count": null,
      "metadata": {
        "id": "dh3f416LhDKF",
        "colab": {
          "base_uri": "https://localhost:8080/"
        },
        "outputId": "46abcc84-55a1-4d28-f105-ad0ca3124e49"
      },
      "outputs": [
        {
          "output_type": "stream",
          "name": "stdout",
          "text": [
            "Epoch 1/2\n",
            "800/800 [==============================] - 718s 884ms/step - loss: 2.0119 - senti_output_loss: 1.1160 - emo_out_loss: 0.4093 - hate_out_loss: 0.4867 - senti_output_accuracy: 0.3748 - emo_out_accuracy: 0.4041 - hate_out_accuracy: 0.8131\n",
            "Epoch 2/2\n",
            "800/800 [==============================] - 706s 882ms/step - loss: 1.9406 - senti_output_loss: 1.0867 - emo_out_loss: 0.4008 - hate_out_loss: 0.4530 - senti_output_accuracy: 0.4089 - emo_out_accuracy: 0.4076 - hate_out_accuracy: 0.8168\n"
          ]
        },
        {
          "output_type": "execute_result",
          "data": {
            "text/plain": [
              "<keras.callbacks.History at 0x7f8298a991e0>"
            ]
          },
          "metadata": {},
          "execution_count": 38
        }
      ],
      "source": [
        "model.fit(x = x_input,\n",
        "          y = {'senti_output': y1_in, 'emo_out': y2_in, \"hate_out\":y3_in},\n",
        "          epochs = 2,\n",
        "          batch_size = 4,\n",
        "          verbose = 1,\n",
        "         )"
      ]
    },
    {
      "cell_type": "code",
      "execution_count": null,
      "metadata": {
        "id": "ADXY-DlVjism",
        "colab": {
          "base_uri": "https://localhost:8080/"
        },
        "outputId": "a8708978-79bb-46ec-cadc-03b157d9220c"
      },
      "outputs": [
        {
          "output_type": "stream",
          "name": "stdout",
          "text": [
            "1/1 [==============================] - 0s 171ms/step\n",
            "tf.Tensor(\n",
            "[[ 3875   546  7237  3201    90    81   397  7158    32     1   359  2466\n",
            "     30  1335   345     1     1   279     1    92   342 10440   804     1\n",
            "   3553  7237  3201     0     0     0     0     0     0     0     0     0\n",
            "      0     0     0     0     0     0     0     0     0     0     0     0\n",
            "      0     0     0     0     0     0     0     0     0     0     0     0\n",
            "      0     0     0     0     0     0     0     0     0     0     0     0\n",
            "      0     0     0     0     0     0     0     0     0     0     0     0\n",
            "      0     0     0     0     0     0     0     0     0     0     0     0\n",
            "      0     0     0     0     0     0     0     0     0]], shape=(1, 105), dtype=int64)\n"
          ]
        }
      ],
      "source": [
        "from sklearn.metrics import confusion_matrix, classification_report, accuracy_score, f1_score\n",
        "\n",
        "def convert_tf(text):\n",
        "    X_train = [text]\n",
        "    return vectorizer(np.array([[s] for s in X_train]))\n",
        "\n",
        "# x = convert_tf(\"white house u seen indication putin getting closer use tactical nuclear weapon\")\n",
        "x = convert_tf(\"elected member lok sabha last 4 term mandate people owe happy memory time spent 12 tughlak lane without prejudice right course abide detail contained letter lok sabha\")\n",
        "# x = convert_tf(\"recession granular sector badly affected others continue thrive\")\n",
        "m = model.predict(x)\n",
        "print(x)"
      ]
    },
    {
      "cell_type": "code",
      "execution_count": null,
      "metadata": {
        "id": "76-nVGKDhhO5",
        "colab": {
          "base_uri": "https://localhost:8080/"
        },
        "outputId": "0630bf63-1981-41c6-d27d-cf5bc50519d8"
      },
      "outputs": [
        {
          "output_type": "stream",
          "name": "stdout",
          "text": [
            " {'negative': 0.23137736, 'neutral': 0.35212502, 'positive': 0.41649744} \n",
            " {'Happy': 0.08326931, 'Angry': 0.040667925, 'Surprise': 0.13003914, 'Sad': 0.18057972, 'Fear': 0.5073092} \n",
            " {'hate': 0.873471, 'not_hate': 0.12395394}\n"
          ]
        }
      ],
      "source": [
        "m1 = m[:1]\n",
        "m2 = m[1:2]\n",
        "m3 = m[2:]\n",
        "# print(m3)\n",
        "for i in m3:\n",
        "  for j in i:\n",
        "    # print(j)\n",
        "    m3 = np.array(j)\n",
        "    break\n",
        "  break\n",
        "for i in m2:\n",
        "  for j in i:\n",
        "    # print(j)\n",
        "    m2 = np.array(j)\n",
        "    break\n",
        "  break\n",
        "for i in m1:\n",
        "  for j in i:\n",
        "    # print(j)\n",
        "    m1 = np.array(j)\n",
        "    break\n",
        "  break\n",
        "\n",
        "# print(\"HATE\")\n",
        "# print(m3.shape)\n",
        "# print(np.mean(m3, axis=0))\n",
        "hate_labels = [\"hate\",\"not_hate\"]\n",
        "d3 = dict(zip(hate_labels, np.mean(m3, axis=0)))\n",
        "\n",
        "# print(\"EMOTIONS\")\n",
        "# print(m2.shape)\n",
        "# print(np.mean(m2, axis=0))\n",
        "emo_labels = ['Happy', 'Angry', 'Surprise', 'Sad', 'Fear']\n",
        "d2 = dict(zip(emo_labels, np.mean(m2, axis=0)))\n",
        "\n",
        "# print(\"SENTIMENT\")\n",
        "# print(m1.shape)\n",
        "# print(np.mean(m1, axis=0))\n",
        "senti_labels = [\"negative\", \"neutral\", \"positive\"]\n",
        "d1 = dict(zip(senti_labels, np.mean(m1, axis=0)))\n",
        "\n",
        "print(\"\",d1,\"\\n\",d2,\"\\n\",d3)\n"
      ]
    },
    {
      "cell_type": "code",
      "execution_count": null,
      "metadata": {
        "id": "LKqoWTZUr_eS"
      },
      "outputs": [],
      "source": [
        "# m = [m1,m2,m3]\n",
        "# print(classification_report(y_test, m))\n",
        "# print(confusion_matrix(y_test, m))\n",
        "\n",
        "# m = np.array(m)\n",
        "# m = [np.mean(m1, axis=0) ,np.mean(m2, axis=0) ,np.mean(m3, axis=0)]\n",
        "\n",
        "# xgb_f1 = round(f1_score(y_test, m, average= 'weighted'), 3)\n",
        "# xgb_accuracy = round((accuracy_score(y_test, m) * 100), 2)\n",
        "\n",
        "# print(\"Accuracy : \" , xgb_accuracy , \" %\")\n",
        "# print(\"f1_score : \" , xgb_f1)"
      ]
    },
    {
      "cell_type": "code",
      "execution_count": null,
      "metadata": {
        "id": "KsHYPPh84a8R"
      },
      "outputs": [],
      "source": [
        "# moodybert multilingual bert for indian languages for CODE MIX\n",
        "#  Yes, there are several online tools available that can convert normal English sentences to code-mixed sentences. \n",
        "# Some of these tools include CodeMixing.ai, Code-Mixed Text Generator, and Multilingual Text Converter.\n",
        "#  However, please note that the accuracy and quality of the output may vary depending on the tool and the complexity of the input sentence."
      ]
    },
    {
      "cell_type": "code",
      "execution_count": null,
      "metadata": {
        "id": "Ze992fWQop90"
      },
      "outputs": [],
      "source": []
    }
  ],
  "metadata": {
    "accelerator": "GPU",
    "colab": {
      "provenance": []
    },
    "gpuClass": "standard",
    "kernelspec": {
      "display_name": "Python 3",
      "language": "python",
      "name": "python3"
    },
    "language_info": {
      "codemirror_mode": {
        "name": "ipython",
        "version": 3
      },
      "file_extension": ".py",
      "mimetype": "text/x-python",
      "name": "python",
      "nbconvert_exporter": "python",
      "pygments_lexer": "ipython3",
      "version": "3.7.12"
    }
  },
  "nbformat": 4,
  "nbformat_minor": 0
}